{
 "cells": [
  {
   "cell_type": "code",
   "execution_count": 35,
   "metadata": {},
   "outputs": [],
   "source": [
    "import pandas as pd\r\n",
    "import numpy as np"
   ]
  },
  {
   "cell_type": "code",
   "execution_count": 34,
   "metadata": {},
   "outputs": [
    {
     "data": {
      "text/html": "<div>\n<style scoped>\n    .dataframe tbody tr th:only-of-type {\n        vertical-align: middle;\n    }\n\n    .dataframe tbody tr th {\n        vertical-align: top;\n    }\n\n    .dataframe thead th {\n        text-align: right;\n    }\n</style>\n<table border=\"1\" class=\"dataframe\">\n  <thead>\n    <tr style=\"text-align: right;\">\n      <th></th>\n      <th>HAGRID</th>\n      <th>Kingdom</th>\n      <th>Phylum</th>\n      <th>Class</th>\n      <th>Order</th>\n      <th>Family</th>\n      <th>Genus</th>\n      <th>Species</th>\n      <th>class</th>\n      <th>Common name</th>\n      <th>Femalematurity</th>\n      <th>Malematurity</th>\n      <th>Gestation</th>\n      <th>LitterSize</th>\n      <th>Adultweight</th>\n      <th>Maximumlongevity</th>\n    </tr>\n  </thead>\n  <tbody>\n    <tr>\n      <th>0</th>\n      <td>4237</td>\n      <td>Animalia</td>\n      <td>Nematoda</td>\n      <td>Chromadorea</td>\n      <td>Rhabditida</td>\n      <td>Rhabditidae</td>\n      <td>Caenorhabditis</td>\n      <td>elegans</td>\n      <td>Animalia.Nematoda.Chromadorea.Rhabditida.Rhabd...</td>\n      <td>Roundworm</td>\n      <td>3</td>\n      <td>3</td>\n      <td>NaN</td>\n      <td>NaN</td>\n      <td>NaN</td>\n      <td>0.16</td>\n    </tr>\n    <tr>\n      <th>1</th>\n      <td>3805</td>\n      <td>Animalia</td>\n      <td>Chordata</td>\n      <td>Teleostei</td>\n      <td>Perciformes</td>\n      <td>Gobiidae</td>\n      <td>Eviota</td>\n      <td>sigillata</td>\n      <td>Animalia.Chordata.Teleostei.Perciformes.Gobiid...</td>\n      <td>Pygmy goby</td>\n      <td>36</td>\n      <td>36</td>\n      <td>NaN</td>\n      <td>135.0</td>\n      <td>NaN</td>\n      <td>0.16</td>\n    </tr>\n    <tr>\n      <th>2</th>\n      <td>5</td>\n      <td>Animalia</td>\n      <td>Arthropoda</td>\n      <td>Insecta</td>\n      <td>Diptera</td>\n      <td>Drosophilidae</td>\n      <td>Drosophila</td>\n      <td>melanogaster</td>\n      <td>Animalia.Arthropoda.Insecta.Diptera.Drosophili...</td>\n      <td>Fruit fly</td>\n      <td>7</td>\n      <td>7</td>\n      <td>NaN</td>\n      <td>NaN</td>\n      <td>NaN</td>\n      <td>0.30</td>\n    </tr>\n    <tr>\n      <th>3</th>\n      <td>2950</td>\n      <td>Animalia</td>\n      <td>Chordata</td>\n      <td>Reptilia</td>\n      <td>Squamata</td>\n      <td>Chamaeleonidae</td>\n      <td>Furcifer</td>\n      <td>labordi</td>\n      <td>Animalia.Chordata.Reptilia.Squamata.Chamaeleon...</td>\n      <td>Labord's chameleon</td>\n      <td>60</td>\n      <td>60</td>\n      <td>260.0</td>\n      <td>11.0</td>\n      <td>NaN</td>\n      <td>0.40</td>\n    </tr>\n    <tr>\n      <th>4</th>\n      <td>11</td>\n      <td>Animalia</td>\n      <td>Arthropoda</td>\n      <td>Insecta</td>\n      <td>Lepidoptera</td>\n      <td>Nymphalidae</td>\n      <td>Bicyclus</td>\n      <td>anynana</td>\n      <td>Animalia.Arthropoda.Insecta.Lepidoptera.Nympha...</td>\n      <td>Squinting bush brown</td>\n      <td>15</td>\n      <td>15</td>\n      <td>NaN</td>\n      <td>NaN</td>\n      <td>NaN</td>\n      <td>0.50</td>\n    </tr>\n  </tbody>\n</table>\n</div>",
      "text/plain": "   HAGRID   Kingdom      Phylum        Class        Order          Family  \\\n0    4237  Animalia    Nematoda  Chromadorea   Rhabditida     Rhabditidae   \n1    3805  Animalia    Chordata    Teleostei  Perciformes        Gobiidae   \n2       5  Animalia  Arthropoda      Insecta      Diptera   Drosophilidae   \n3    2950  Animalia    Chordata     Reptilia     Squamata  Chamaeleonidae   \n4      11  Animalia  Arthropoda      Insecta  Lepidoptera     Nymphalidae   \n\n            Genus       Species  \\\n0  Caenorhabditis       elegans   \n1          Eviota     sigillata   \n2      Drosophila  melanogaster   \n3        Furcifer       labordi   \n4        Bicyclus       anynana   \n\n                                               class           Common name  \\\n0  Animalia.Nematoda.Chromadorea.Rhabditida.Rhabd...             Roundworm   \n1  Animalia.Chordata.Teleostei.Perciformes.Gobiid...            Pygmy goby   \n2  Animalia.Arthropoda.Insecta.Diptera.Drosophili...             Fruit fly   \n3  Animalia.Chordata.Reptilia.Squamata.Chamaeleon...    Labord's chameleon   \n4  Animalia.Arthropoda.Insecta.Lepidoptera.Nympha...  Squinting bush brown   \n\n   Femalematurity  Malematurity  Gestation  LitterSize  Adultweight  \\\n0               3             3        NaN         NaN          NaN   \n1              36            36        NaN       135.0          NaN   \n2               7             7        NaN         NaN          NaN   \n3              60            60      260.0        11.0          NaN   \n4              15            15        NaN         NaN          NaN   \n\n   Maximumlongevity  \n0              0.16  \n1              0.16  \n2              0.30  \n3              0.40  \n4              0.50  "
     },
     "execution_count": 34,
     "metadata": {},
     "output_type": "execute_result"
    }
   ],
   "source": [
    "animals = pd.read_csv('animals2.csv')\r\n",
    "\r\n",
    "animals.head()"
   ]
  },
  {
   "cell_type": "code",
   "execution_count": null,
   "metadata": {},
   "outputs": [],
   "source": []
  },
  {
   "cell_type": "code",
   "execution_count": 8,
   "metadata": {},
   "outputs": [
    {
     "data": {
      "text/html": "<div>\n<style scoped>\n    .dataframe tbody tr th:only-of-type {\n        vertical-align: middle;\n    }\n\n    .dataframe tbody tr th {\n        vertical-align: top;\n    }\n\n    .dataframe thead th {\n        text-align: right;\n    }\n</style>\n<table border=\"1\" class=\"dataframe\">\n  <thead>\n    <tr style=\"text-align: right;\">\n      <th></th>\n      <th>HAGRID</th>\n      <th>Kingdom</th>\n      <th>Phylum</th>\n      <th>Class</th>\n      <th>Order</th>\n      <th>Family</th>\n      <th>Genus</th>\n      <th>Species</th>\n      <th>class</th>\n      <th>Common name</th>\n      <th>Female maturity (days)</th>\n      <th>Male maturity (days)</th>\n      <th>diff male/female maturity</th>\n      <th>Gestation/Incubation (days)</th>\n      <th>Weaning (days)</th>\n      <th>Litter/Clutch size</th>\n      <th>Litters/Clutches per year</th>\n      <th>Inter-litter/Interbirth interval</th>\n      <th>Birth weight (g)</th>\n      <th>Weaning weight (g)</th>\n      <th>Adult weight (g)</th>\n      <th>Growth rate (1/days)</th>\n      <th>Maximum longevity (yrs)</th>\n      <th>Source</th>\n      <th>Specimen origin</th>\n      <th>Sample size</th>\n      <th>Data quality</th>\n      <th>IMR (per yr)</th>\n      <th>MRDT (yrs)</th>\n      <th>Metabolic rate (W)</th>\n      <th>Body mass (g)</th>\n      <th>Temperature (K)</th>\n      <th>References</th>\n    </tr>\n  </thead>\n  <tbody>\n    <tr>\n      <th>4215</th>\n      <td>4241</td>\n      <td>Plantae</td>\n      <td>Pinophyta</td>\n      <td>Pinopsida</td>\n      <td>Pinales</td>\n      <td>Pinaceae</td>\n      <td>Pinus</td>\n      <td>longaeva</td>\n      <td>Plantae.Pinophyta.Pinopsida.Pinales.Pinaceae.P...</td>\n      <td>Great Basin bristlecone pine</td>\n      <td>NaN</td>\n      <td>NaN</td>\n      <td>0.0</td>\n      <td>NaN</td>\n      <td>NaN</td>\n      <td>NaN</td>\n      <td>NaN</td>\n      <td>NaN</td>\n      <td>NaN</td>\n      <td>NaN</td>\n      <td>NaN</td>\n      <td>NaN</td>\n      <td>5062.0</td>\n      <td>1289</td>\n      <td>wild</td>\n      <td>medium</td>\n      <td>acceptable</td>\n      <td>NaN</td>\n      <td>999.0</td>\n      <td>NaN</td>\n      <td>NaN</td>\n      <td>NaN</td>\n      <td>5,017,101,289</td>\n    </tr>\n    <tr>\n      <th>4216</th>\n      <td>4242</td>\n      <td>Fungi</td>\n      <td>Ascomycota</td>\n      <td>Saccharomycetes</td>\n      <td>Saccharomycetales</td>\n      <td>Saccharomycetaceae</td>\n      <td>Saccharomyces</td>\n      <td>cerevisiae</td>\n      <td>Fungi.Ascomycota.Saccharomycetes.Saccharomycet...</td>\n      <td>Baker's yeast</td>\n      <td>NaN</td>\n      <td>NaN</td>\n      <td>0.0</td>\n      <td>NaN</td>\n      <td>NaN</td>\n      <td>NaN</td>\n      <td>NaN</td>\n      <td>NaN</td>\n      <td>NaN</td>\n      <td>NaN</td>\n      <td>NaN</td>\n      <td>NaN</td>\n      <td>0.04</td>\n      <td>NaN</td>\n      <td>captivity</td>\n      <td>large</td>\n      <td>acceptable</td>\n      <td>NaN</td>\n      <td>NaN</td>\n      <td>NaN</td>\n      <td>NaN</td>\n      <td>NaN</td>\n      <td>4,12,15,44,45,53,56,69,337,338,460,746,932,936...</td>\n    </tr>\n    <tr>\n      <th>4217</th>\n      <td>4243</td>\n      <td>Fungi</td>\n      <td>Ascomycota</td>\n      <td>Schizosaccharomycetes</td>\n      <td>Schizosaccharomycetales</td>\n      <td>Schizosaccharomycetaceae</td>\n      <td>Schizosaccharomyces</td>\n      <td>pombe</td>\n      <td>Fungi.Ascomycota.Schizosaccharomycetes.Schizos...</td>\n      <td>Fission yeast</td>\n      <td>NaN</td>\n      <td>NaN</td>\n      <td>0.0</td>\n      <td>NaN</td>\n      <td>NaN</td>\n      <td>NaN</td>\n      <td>NaN</td>\n      <td>NaN</td>\n      <td>NaN</td>\n      <td>NaN</td>\n      <td>NaN</td>\n      <td>NaN</td>\n      <td>NaN</td>\n      <td>NaN</td>\n      <td>unknown</td>\n      <td>small</td>\n      <td>low</td>\n      <td>NaN</td>\n      <td>NaN</td>\n      <td>NaN</td>\n      <td>NaN</td>\n      <td>NaN</td>\n      <td>7,728,781,129</td>\n    </tr>\n    <tr>\n      <th>4218</th>\n      <td>4244</td>\n      <td>Fungi</td>\n      <td>Ascomycota</td>\n      <td>Sordariomycetes</td>\n      <td>Sordariales</td>\n      <td>Lasiosphaeriaceae</td>\n      <td>Podospora</td>\n      <td>anserina</td>\n      <td>Fungi.Ascomycota.Sordariomycetes.Sordariales.L...</td>\n      <td>Filamentous fungus</td>\n      <td>NaN</td>\n      <td>NaN</td>\n      <td>0.0</td>\n      <td>NaN</td>\n      <td>NaN</td>\n      <td>NaN</td>\n      <td>NaN</td>\n      <td>NaN</td>\n      <td>NaN</td>\n      <td>NaN</td>\n      <td>NaN</td>\n      <td>NaN</td>\n      <td>NaN</td>\n      <td>NaN</td>\n      <td>unknown</td>\n      <td>small</td>\n      <td>low</td>\n      <td>NaN</td>\n      <td>NaN</td>\n      <td>NaN</td>\n      <td>NaN</td>\n      <td>NaN</td>\n      <td>7,677,687,697,707,710,000,000</td>\n    </tr>\n    <tr>\n      <th>4219</th>\n      <td>9999</td>\n      <td></td>\n      <td></td>\n      <td></td>\n      <td></td>\n      <td></td>\n      <td></td>\n      <td></td>\n      <td>Animalia</td>\n      <td></td>\n      <td></td>\n      <td></td>\n      <td></td>\n      <td></td>\n      <td></td>\n      <td></td>\n      <td></td>\n      <td></td>\n      <td></td>\n      <td></td>\n      <td></td>\n      <td></td>\n      <td></td>\n      <td></td>\n      <td></td>\n      <td></td>\n      <td></td>\n      <td></td>\n      <td></td>\n      <td></td>\n      <td></td>\n      <td></td>\n      <td></td>\n    </tr>\n  </tbody>\n</table>\n</div>",
      "text/plain": "      HAGRID  ...                                         References\n4215    4241  ...                                      5,017,101,289\n4216    4242  ...  4,12,15,44,45,53,56,69,337,338,460,746,932,936...\n4217    4243  ...                                      7,728,781,129\n4218    4244  ...                      7,677,687,697,707,710,000,000\n4219    9999  ...                                                   \n\n[5 rows x 33 columns]"
     },
     "execution_count": 8,
     "metadata": {},
     "output_type": "execute_result"
    }
   ],
   "source": [
    "animals.tail()"
   ]
  },
  {
   "cell_type": "code",
   "execution_count": 12,
   "metadata": {},
   "outputs": [
    {
     "data": {
      "text/html": "<div>\n<style scoped>\n    .dataframe tbody tr th:only-of-type {\n        vertical-align: middle;\n    }\n\n    .dataframe tbody tr th {\n        vertical-align: top;\n    }\n\n    .dataframe thead th {\n        text-align: right;\n    }\n</style>\n<table border=\"1\" class=\"dataframe\">\n  <thead>\n    <tr style=\"text-align: right;\">\n      <th></th>\n      <th>HAGRID</th>\n      <th>Kingdom</th>\n      <th>Phylum</th>\n      <th>Class</th>\n      <th>Order</th>\n      <th>Family</th>\n      <th>Genus</th>\n      <th>Species</th>\n      <th>class</th>\n      <th>Common name</th>\n      <th>Female maturity (days)</th>\n      <th>Male maturity (days)</th>\n      <th>diff male/female maturity</th>\n      <th>Gestation/Incubation (days)</th>\n      <th>Weaning (days)</th>\n      <th>Litter/Clutch size</th>\n      <th>Litters/Clutches per year</th>\n      <th>Inter-litter/Interbirth interval</th>\n      <th>Birth weight (g)</th>\n      <th>Weaning weight (g)</th>\n      <th>Adult weight (g)</th>\n      <th>Growth rate (1/days)</th>\n      <th>Maximum longevity (yrs)</th>\n      <th>Source</th>\n      <th>Specimen origin</th>\n      <th>Sample size</th>\n      <th>Data quality</th>\n      <th>IMR (per yr)</th>\n      <th>MRDT (yrs)</th>\n      <th>Metabolic rate (W)</th>\n      <th>Body mass (g)</th>\n      <th>Temperature (K)</th>\n      <th>References</th>\n    </tr>\n  </thead>\n  <tbody>\n    <tr>\n      <th>0</th>\n      <td>3</td>\n      <td>Animalia</td>\n      <td>Arthropoda</td>\n      <td>Branchiopoda</td>\n      <td>Diplostraca</td>\n      <td>Daphniidae</td>\n      <td>Daphnia</td>\n      <td>pulicaria</td>\n      <td>Animalia.Arthropoda.Branchiopoda.Diplostraca.D...</td>\n      <td>Daphnia</td>\n      <td>NaN</td>\n      <td>NaN</td>\n      <td>0.0</td>\n      <td>NaN</td>\n      <td>NaN</td>\n      <td>NaN</td>\n      <td>NaN</td>\n      <td>NaN</td>\n      <td>NaN</td>\n      <td>NaN</td>\n      <td>NaN</td>\n      <td>NaN</td>\n      <td>0.19</td>\n      <td>NaN</td>\n      <td>unknown</td>\n      <td>medium</td>\n      <td>acceptable</td>\n      <td>NaN</td>\n      <td>NaN</td>\n      <td>NaN</td>\n      <td>NaN</td>\n      <td>NaN</td>\n      <td>129,412,951,296</td>\n    </tr>\n    <tr>\n      <th>1</th>\n      <td>5</td>\n      <td>Animalia</td>\n      <td>Arthropoda</td>\n      <td>Insecta</td>\n      <td>Diptera</td>\n      <td>Drosophilidae</td>\n      <td>Drosophila</td>\n      <td>melanogaster</td>\n      <td>Animalia.Arthropoda.Insecta.Diptera.Drosophili...</td>\n      <td>Fruit fly</td>\n      <td>7.0</td>\n      <td>7.0</td>\n      <td>0.0</td>\n      <td>NaN</td>\n      <td>NaN</td>\n      <td>NaN</td>\n      <td>NaN</td>\n      <td>NaN</td>\n      <td>NaN</td>\n      <td>NaN</td>\n      <td>NaN</td>\n      <td>NaN</td>\n      <td>0.3</td>\n      <td>NaN</td>\n      <td>captivity</td>\n      <td>large</td>\n      <td>acceptable</td>\n      <td>0.05</td>\n      <td>0.04</td>\n      <td>NaN</td>\n      <td>NaN</td>\n      <td>NaN</td>\n      <td>2,20,32,47,53,68,69,240,241,242,243,274,602,98...</td>\n    </tr>\n    <tr>\n      <th>2</th>\n      <td>6</td>\n      <td>Animalia</td>\n      <td>Arthropoda</td>\n      <td>Insecta</td>\n      <td>Hymenoptera</td>\n      <td>Apidae</td>\n      <td>Apis</td>\n      <td>mellifera</td>\n      <td>Animalia.Arthropoda.Insecta.Hymenoptera.Apidae...</td>\n      <td>Honey bee</td>\n      <td>NaN</td>\n      <td>NaN</td>\n      <td>0.0</td>\n      <td>NaN</td>\n      <td>NaN</td>\n      <td>NaN</td>\n      <td>NaN</td>\n      <td>NaN</td>\n      <td>NaN</td>\n      <td>NaN</td>\n      <td>NaN</td>\n      <td>NaN</td>\n      <td>8.0</td>\n      <td>812</td>\n      <td>unknown</td>\n      <td>medium</td>\n      <td>acceptable</td>\n      <td>NaN</td>\n      <td>NaN</td>\n      <td>NaN</td>\n      <td>NaN</td>\n      <td>NaN</td>\n      <td>6,340,740,874,180,580,000,000,000,000,000,000,...</td>\n    </tr>\n    <tr>\n      <th>3</th>\n      <td>8</td>\n      <td>Animalia</td>\n      <td>Arthropoda</td>\n      <td>Insecta</td>\n      <td>Hymenoptera</td>\n      <td>Formicidae</td>\n      <td>Cardiocondyla</td>\n      <td>obscurior</td>\n      <td>Animalia.Arthropoda.Insecta.Hymenoptera.Formic...</td>\n      <td>Cardiocondyla obscurior</td>\n      <td>NaN</td>\n      <td>NaN</td>\n      <td>0.0</td>\n      <td>NaN</td>\n      <td>NaN</td>\n      <td>NaN</td>\n      <td>NaN</td>\n      <td>NaN</td>\n      <td>NaN</td>\n      <td>NaN</td>\n      <td>NaN</td>\n      <td>NaN</td>\n      <td>0.5</td>\n      <td>1293</td>\n      <td>captivity</td>\n      <td>medium</td>\n      <td>acceptable</td>\n      <td>NaN</td>\n      <td>NaN</td>\n      <td>NaN</td>\n      <td>NaN</td>\n      <td>NaN</td>\n      <td>1293</td>\n    </tr>\n    <tr>\n      <th>4</th>\n      <td>9</td>\n      <td>Animalia</td>\n      <td>Arthropoda</td>\n      <td>Insecta</td>\n      <td>Hymenoptera</td>\n      <td>Formicidae</td>\n      <td>Lasius</td>\n      <td>niger</td>\n      <td>Animalia.Arthropoda.Insecta.Hymenoptera.Formic...</td>\n      <td>Black garden ant</td>\n      <td>NaN</td>\n      <td>NaN</td>\n      <td>0.0</td>\n      <td>NaN</td>\n      <td>NaN</td>\n      <td>NaN</td>\n      <td>NaN</td>\n      <td>NaN</td>\n      <td>NaN</td>\n      <td>NaN</td>\n      <td>NaN</td>\n      <td>NaN</td>\n      <td>28.0</td>\n      <td>411</td>\n      <td>unknown</td>\n      <td>medium</td>\n      <td>acceptable</td>\n      <td>NaN</td>\n      <td>NaN</td>\n      <td>NaN</td>\n      <td>NaN</td>\n      <td>NaN</td>\n      <td>411,813,814</td>\n    </tr>\n    <tr>\n      <th>5</th>\n      <td>10</td>\n      <td>Animalia</td>\n      <td>Arthropoda</td>\n      <td>Insecta</td>\n      <td>Hymenoptera</td>\n      <td>Formicidae</td>\n      <td>Pheidole</td>\n      <td>dentata</td>\n      <td>Animalia.Arthropoda.Insecta.Hymenoptera.Formic...</td>\n      <td>Pheidole dentata</td>\n      <td>NaN</td>\n      <td>NaN</td>\n      <td>0.0</td>\n      <td>NaN</td>\n      <td>NaN</td>\n      <td>NaN</td>\n      <td>NaN</td>\n      <td>NaN</td>\n      <td>NaN</td>\n      <td>NaN</td>\n      <td>NaN</td>\n      <td>NaN</td>\n      <td>0.4</td>\n      <td>1156</td>\n      <td>captivity</td>\n      <td>medium</td>\n      <td>questionable</td>\n      <td>NaN</td>\n      <td>NaN</td>\n      <td>NaN</td>\n      <td>NaN</td>\n      <td>NaN</td>\n      <td>1156</td>\n    </tr>\n    <tr>\n      <th>6</th>\n      <td>11</td>\n      <td>Animalia</td>\n      <td>Arthropoda</td>\n      <td>Insecta</td>\n      <td>Lepidoptera</td>\n      <td>Nymphalidae</td>\n      <td>Bicyclus</td>\n      <td>anynana</td>\n      <td>Animalia.Arthropoda.Insecta.Lepidoptera.Nympha...</td>\n      <td>Squinting bush brown</td>\n      <td>15.0</td>\n      <td>15.0</td>\n      <td>0.0</td>\n      <td>NaN</td>\n      <td>NaN</td>\n      <td>NaN</td>\n      <td>NaN</td>\n      <td>NaN</td>\n      <td>NaN</td>\n      <td>NaN</td>\n      <td>NaN</td>\n      <td>NaN</td>\n      <td>0.5</td>\n      <td>811</td>\n      <td>wild</td>\n      <td>medium</td>\n      <td>acceptable</td>\n      <td>NaN</td>\n      <td>NaN</td>\n      <td>NaN</td>\n      <td>NaN</td>\n      <td>NaN</td>\n      <td>418,809,811</td>\n    </tr>\n    <tr>\n      <th>7</th>\n      <td>12</td>\n      <td>Animalia</td>\n      <td>Arthropoda</td>\n      <td>Malacostraca</td>\n      <td>Decapoda</td>\n      <td>Nephropidae</td>\n      <td>Homarus</td>\n      <td>americanus</td>\n      <td>Animalia.Arthropoda.Malacostraca.Decapoda.Neph...</td>\n      <td>American lobster</td>\n      <td>NaN</td>\n      <td>NaN</td>\n      <td>0.0</td>\n      <td>NaN</td>\n      <td>NaN</td>\n      <td>NaN</td>\n      <td>NaN</td>\n      <td>NaN</td>\n      <td>NaN</td>\n      <td>NaN</td>\n      <td>NaN</td>\n      <td>NaN</td>\n      <td>100.0</td>\n      <td>2</td>\n      <td>wild</td>\n      <td>medium</td>\n      <td>acceptable</td>\n      <td>NaN</td>\n      <td>NaN</td>\n      <td>NaN</td>\n      <td>NaN</td>\n      <td>NaN</td>\n      <td>2,13,594</td>\n    </tr>\n  </tbody>\n</table>\n</div>",
      "text/plain": "   HAGRID  ...                                         References\n0       3  ...                                    129,412,951,296\n1       5  ...  2,20,32,47,53,68,69,240,241,242,243,274,602,98...\n2       6  ...  6,340,740,874,180,580,000,000,000,000,000,000,...\n3       8  ...                                               1293\n4       9  ...                                        411,813,814\n5      10  ...                                               1156\n6      11  ...                                        418,809,811\n7      12  ...                                           2,13,594\n\n[8 rows x 33 columns]"
     },
     "execution_count": 12,
     "metadata": {},
     "output_type": "execute_result"
    }
   ],
   "source": [
    "animals[animals['Phylum'] == 'Arthropoda']"
   ]
  },
  {
   "cell_type": "code",
   "execution_count": 33,
   "metadata": {},
   "outputs": [
    {
     "ename": "ValueError",
     "evalue": "cannot set a row with mismatched columns",
     "output_type": "error",
     "traceback": [
      "\u001b[1;31m---------------------------------------------------------------------------\u001b[0m",
      "\u001b[1;31mValueError\u001b[0m                                Traceback (most recent call last)",
      "\u001b[1;32m<ipython-input-33-1a8f7e2d1280>\u001b[0m in \u001b[0;36m<module>\u001b[1;34m\u001b[0m\n\u001b[1;32m----> 1\u001b[1;33m \u001b[0manimals\u001b[0m\u001b[1;33m.\u001b[0m\u001b[0mloc\u001b[0m\u001b[1;33m[\u001b[0m\u001b[0mlen\u001b[0m\u001b[1;33m(\u001b[0m\u001b[0manimals\u001b[0m\u001b[1;33m.\u001b[0m\u001b[0mindex\u001b[0m\u001b[1;33m)\u001b[0m\u001b[1;33m]\u001b[0m \u001b[1;33m=\u001b[0m \u001b[1;33m[\u001b[0m\u001b[1;36m9999\u001b[0m\u001b[1;33m,\u001b[0m \u001b[1;34m''\u001b[0m\u001b[1;33m,\u001b[0m \u001b[1;34m''\u001b[0m\u001b[1;33m,\u001b[0m \u001b[1;34m''\u001b[0m\u001b[1;33m,\u001b[0m \u001b[1;34m''\u001b[0m\u001b[1;33m,\u001b[0m \u001b[1;34m''\u001b[0m\u001b[1;33m,\u001b[0m \u001b[1;34m''\u001b[0m\u001b[1;33m,\u001b[0m \u001b[1;34m''\u001b[0m\u001b[1;33m,\u001b[0m \u001b[1;34m'Animalia'\u001b[0m\u001b[1;33m,\u001b[0m \u001b[1;34m''\u001b[0m\u001b[1;33m,\u001b[0m \u001b[1;34m''\u001b[0m\u001b[1;33m,\u001b[0m \u001b[1;34m''\u001b[0m\u001b[1;33m,\u001b[0m \u001b[1;34m''\u001b[0m\u001b[1;33m,\u001b[0m \u001b[1;34m''\u001b[0m\u001b[1;33m,\u001b[0m \u001b[1;34m''\u001b[0m\u001b[1;33m,\u001b[0m \u001b[1;34m''\u001b[0m\u001b[1;33m,\u001b[0m \u001b[1;34m''\u001b[0m\u001b[1;33m,\u001b[0m \u001b[1;34m''\u001b[0m\u001b[1;33m,\u001b[0m \u001b[1;34m''\u001b[0m\u001b[1;33m,\u001b[0m \u001b[1;34m''\u001b[0m\u001b[1;33m,\u001b[0m \u001b[1;34m''\u001b[0m\u001b[1;33m,\u001b[0m \u001b[1;34m''\u001b[0m\u001b[1;33m,\u001b[0m \u001b[1;34m''\u001b[0m\u001b[1;33m,\u001b[0m \u001b[1;34m''\u001b[0m\u001b[1;33m,\u001b[0m \u001b[1;34m''\u001b[0m\u001b[1;33m,\u001b[0m \u001b[1;34m''\u001b[0m\u001b[1;33m,\u001b[0m \u001b[1;34m''\u001b[0m\u001b[1;33m,\u001b[0m \u001b[1;34m''\u001b[0m\u001b[1;33m,\u001b[0m \u001b[1;34m''\u001b[0m\u001b[1;33m,\u001b[0m \u001b[1;34m''\u001b[0m\u001b[1;33m,\u001b[0m \u001b[1;34m''\u001b[0m\u001b[1;33m,\u001b[0m \u001b[1;34m''\u001b[0m\u001b[1;33m,\u001b[0m \u001b[1;34m''\u001b[0m\u001b[1;33m]\u001b[0m\u001b[1;33m\u001b[0m\u001b[1;33m\u001b[0m\u001b[0m\n\u001b[0m\u001b[0;32m      2\u001b[0m \u001b[1;33m\u001b[0m\u001b[0m\n\u001b[0;32m      3\u001b[0m \u001b[1;33m\u001b[0m\u001b[0m\n\u001b[0;32m      4\u001b[0m \u001b[1;33m\u001b[0m\u001b[0m\n\u001b[0;32m      5\u001b[0m \u001b[1;32mfor\u001b[0m \u001b[0mphylum\u001b[0m \u001b[1;32min\u001b[0m \u001b[0mnp\u001b[0m\u001b[1;33m.\u001b[0m\u001b[0munique\u001b[0m\u001b[1;33m(\u001b[0m\u001b[0manimals\u001b[0m\u001b[1;33m[\u001b[0m\u001b[1;34m'Phylum'\u001b[0m\u001b[1;33m]\u001b[0m\u001b[1;33m)\u001b[0m\u001b[1;33m:\u001b[0m\u001b[1;33m\u001b[0m\u001b[1;33m\u001b[0m\u001b[0m\n",
      "\u001b[1;32mC:\\Python39\\lib\\site-packages\\pandas\\core\\indexing.py\u001b[0m in \u001b[0;36m__setitem__\u001b[1;34m(self, key, value)\u001b[0m\n\u001b[0;32m    690\u001b[0m \u001b[1;33m\u001b[0m\u001b[0m\n\u001b[0;32m    691\u001b[0m         \u001b[0miloc\u001b[0m \u001b[1;33m=\u001b[0m \u001b[0mself\u001b[0m \u001b[1;32mif\u001b[0m \u001b[0mself\u001b[0m\u001b[1;33m.\u001b[0m\u001b[0mname\u001b[0m \u001b[1;33m==\u001b[0m \u001b[1;34m\"iloc\"\u001b[0m \u001b[1;32melse\u001b[0m \u001b[0mself\u001b[0m\u001b[1;33m.\u001b[0m\u001b[0mobj\u001b[0m\u001b[1;33m.\u001b[0m\u001b[0miloc\u001b[0m\u001b[1;33m\u001b[0m\u001b[1;33m\u001b[0m\u001b[0m\n\u001b[1;32m--> 692\u001b[1;33m         \u001b[0miloc\u001b[0m\u001b[1;33m.\u001b[0m\u001b[0m_setitem_with_indexer\u001b[0m\u001b[1;33m(\u001b[0m\u001b[0mindexer\u001b[0m\u001b[1;33m,\u001b[0m \u001b[0mvalue\u001b[0m\u001b[1;33m,\u001b[0m \u001b[0mself\u001b[0m\u001b[1;33m.\u001b[0m\u001b[0mname\u001b[0m\u001b[1;33m)\u001b[0m\u001b[1;33m\u001b[0m\u001b[1;33m\u001b[0m\u001b[0m\n\u001b[0m\u001b[0;32m    693\u001b[0m \u001b[1;33m\u001b[0m\u001b[0m\n\u001b[0;32m    694\u001b[0m     \u001b[1;32mdef\u001b[0m \u001b[0m_validate_key\u001b[0m\u001b[1;33m(\u001b[0m\u001b[0mself\u001b[0m\u001b[1;33m,\u001b[0m \u001b[0mkey\u001b[0m\u001b[1;33m,\u001b[0m \u001b[0maxis\u001b[0m\u001b[1;33m:\u001b[0m \u001b[0mint\u001b[0m\u001b[1;33m)\u001b[0m\u001b[1;33m:\u001b[0m\u001b[1;33m\u001b[0m\u001b[1;33m\u001b[0m\u001b[0m\n",
      "\u001b[1;32mC:\\Python39\\lib\\site-packages\\pandas\\core\\indexing.py\u001b[0m in \u001b[0;36m_setitem_with_indexer\u001b[1;34m(self, indexer, value, name)\u001b[0m\n\u001b[0;32m   1627\u001b[0m \u001b[1;33m\u001b[0m\u001b[0m\n\u001b[0;32m   1628\u001b[0m             \u001b[1;32mif\u001b[0m \u001b[0mmissing\u001b[0m\u001b[1;33m:\u001b[0m\u001b[1;33m\u001b[0m\u001b[1;33m\u001b[0m\u001b[0m\n\u001b[1;32m-> 1629\u001b[1;33m                 \u001b[0mself\u001b[0m\u001b[1;33m.\u001b[0m\u001b[0m_setitem_with_indexer_missing\u001b[0m\u001b[1;33m(\u001b[0m\u001b[0mindexer\u001b[0m\u001b[1;33m,\u001b[0m \u001b[0mvalue\u001b[0m\u001b[1;33m)\u001b[0m\u001b[1;33m\u001b[0m\u001b[1;33m\u001b[0m\u001b[0m\n\u001b[0m\u001b[0;32m   1630\u001b[0m                 \u001b[1;32mreturn\u001b[0m\u001b[1;33m\u001b[0m\u001b[1;33m\u001b[0m\u001b[0m\n\u001b[0;32m   1631\u001b[0m \u001b[1;33m\u001b[0m\u001b[0m\n",
      "\u001b[1;32mC:\\Python39\\lib\\site-packages\\pandas\\core\\indexing.py\u001b[0m in \u001b[0;36m_setitem_with_indexer_missing\u001b[1;34m(self, indexer, value)\u001b[0m\n\u001b[0;32m   1916\u001b[0m                     \u001b[1;31m# must have conforming columns\u001b[0m\u001b[1;33m\u001b[0m\u001b[1;33m\u001b[0m\u001b[1;33m\u001b[0m\u001b[0m\n\u001b[0;32m   1917\u001b[0m                     \u001b[1;32mif\u001b[0m \u001b[0mlen\u001b[0m\u001b[1;33m(\u001b[0m\u001b[0mvalue\u001b[0m\u001b[1;33m)\u001b[0m \u001b[1;33m!=\u001b[0m \u001b[0mlen\u001b[0m\u001b[1;33m(\u001b[0m\u001b[0mself\u001b[0m\u001b[1;33m.\u001b[0m\u001b[0mobj\u001b[0m\u001b[1;33m.\u001b[0m\u001b[0mcolumns\u001b[0m\u001b[1;33m)\u001b[0m\u001b[1;33m:\u001b[0m\u001b[1;33m\u001b[0m\u001b[1;33m\u001b[0m\u001b[0m\n\u001b[1;32m-> 1918\u001b[1;33m                         \u001b[1;32mraise\u001b[0m \u001b[0mValueError\u001b[0m\u001b[1;33m(\u001b[0m\u001b[1;34m\"cannot set a row with mismatched columns\"\u001b[0m\u001b[1;33m)\u001b[0m\u001b[1;33m\u001b[0m\u001b[1;33m\u001b[0m\u001b[0m\n\u001b[0m\u001b[0;32m   1919\u001b[0m \u001b[1;33m\u001b[0m\u001b[0m\n\u001b[0;32m   1920\u001b[0m                 \u001b[0mvalue\u001b[0m \u001b[1;33m=\u001b[0m \u001b[0mSeries\u001b[0m\u001b[1;33m(\u001b[0m\u001b[0mvalue\u001b[0m\u001b[1;33m,\u001b[0m \u001b[0mindex\u001b[0m\u001b[1;33m=\u001b[0m\u001b[0mself\u001b[0m\u001b[1;33m.\u001b[0m\u001b[0mobj\u001b[0m\u001b[1;33m.\u001b[0m\u001b[0mcolumns\u001b[0m\u001b[1;33m,\u001b[0m \u001b[0mname\u001b[0m\u001b[1;33m=\u001b[0m\u001b[0mindexer\u001b[0m\u001b[1;33m)\u001b[0m\u001b[1;33m\u001b[0m\u001b[1;33m\u001b[0m\u001b[0m\n",
      "\u001b[1;31mValueError\u001b[0m: cannot set a row with mismatched columns"
     ]
    }
   ],
   "source": [
    "animals.loc[len(animals.index)] = [9999, '', '', '', '', '', '', '', 'Animalia', '', '', '', '', '', '', '', '', '', '', '', '', '', '', '', '', '', '', '', '', '', '', '', ''] \r\n",
    "\r\n",
    "\r\n",
    "\r\n",
    "for phylum in np.unique(animals['Phylum']):\r\n",
    "    print(phylum)\r\n",
    "    animals.loc[len(animals.index)] = [9999, '', '', '', '', '', '', '', 'Animalia.' + phylum, '', '', '', '', '', '', '', '', '', '', '', '', '', '', '', '', '', '', '', '', '', '', '', ''] \r\n",
    "\r\n",
    "    for classs in np.unique(animals[animals['Phylum'] == phylum]['Class']):\r\n",
    "        print('  ' + classs)\r\n",
    "        animals.loc[len(animals.index)] = [9999, '', '', '', '', '', '', '', 'Animalia.' + phylum + '.' + classs, '', '', '', '', '', '', '', '', '', '', '', '', '', '', '', '', '', '', '', '', '', '', '', ''] \r\n",
    "\r\n",
    "        for order in np.unique(animals[animals['Class'] == classs]['Order']):\r\n",
    "            print('    ' + order)\r\n",
    "            animals.loc[len(animals.index)] = [9999, '', '', '', '', '', '', '', 'Animalia.' + phylum + '.' + classs + '.' + order, '', '', '', '', '', '', '', '', '', '', '', '', '', '', '', '', '', '', '', '', '', '', '', ''] \r\n",
    "\r\n",
    "            for family in np.unique(animals[animals['Order'] == order]['Family']):\r\n",
    "                print('      ' + family)\r\n",
    "                animals.loc[len(animals.index)] = [9999, '', '', '', '', '', '', '', 'Animalia.' + phylum + '.' + classs + '.' + order + '.' + family, '', '', '', '', '', '', '', '', '', '', '', '', '', '', '', '', '', '', '', '', '', '', '', ''] \r\n",
    "\r\n",
    "                for genus in np.unique(animals[animals['Family'] == family]['Genus']):\r\n",
    "                    print('        ' + genus)\r\n",
    "                    animals.loc[len(animals.index)] = [9999, '', '', '', '', '', '', '', 'Animalia.' + phylum + '.' + classs + '.' + order + '.' + family + '.' + genus, '', '', '', '', '', '', '', '', '', '', '', '', '', '', '', '', '', '', '', '', '', '', '', ''] \r\n"
   ]
  },
  {
   "cell_type": "code",
   "execution_count": 43,
   "metadata": {},
   "outputs": [
    {
     "name": "stdout",
     "output_type": "stream",
     "text": [
      "{\"Arthropoda\":\n",
      "[\n",
      "{\"Insecta\":\n",
      "[\n",
      "{\"Diptera\":\n",
      "[\n",
      "{\"Drosophilidae\":\n",
      "[\n",
      "{\"Drosophila\":\n",
      "[\n"
     ]
    },
    {
     "ename": "TypeError",
     "evalue": "'<' not supported between instances of 'str' and 'int'",
     "output_type": "error",
     "traceback": [
      "\u001b[1;31m---------------------------------------------------------------------------\u001b[0m",
      "\u001b[1;31mTypeError\u001b[0m                                 Traceback (most recent call last)",
      "\u001b[1;32m<ipython-input-43-f45c9776bdbb>\u001b[0m in \u001b[0;36m<module>\u001b[1;34m\u001b[0m\n\u001b[0;32m     21\u001b[0m                     \u001b[0mprint\u001b[0m\u001b[1;33m(\u001b[0m \u001b[1;34m'{\"'\u001b[0m \u001b[1;33m+\u001b[0m \u001b[0mgenus\u001b[0m \u001b[1;33m+\u001b[0m \u001b[1;34m'\":'\u001b[0m\u001b[1;33m)\u001b[0m\u001b[1;33m\u001b[0m\u001b[1;33m\u001b[0m\u001b[0m\n\u001b[0;32m     22\u001b[0m                     \u001b[0mprint\u001b[0m\u001b[1;33m(\u001b[0m\u001b[1;34m'['\u001b[0m\u001b[1;33m)\u001b[0m\u001b[1;33m\u001b[0m\u001b[1;33m\u001b[0m\u001b[0m\n\u001b[1;32m---> 23\u001b[1;33m                     \u001b[1;32mfor\u001b[0m \u001b[0mspecies\u001b[0m \u001b[1;32min\u001b[0m \u001b[0mnp\u001b[0m\u001b[1;33m.\u001b[0m\u001b[0munique\u001b[0m\u001b[1;33m(\u001b[0m\u001b[0manimals\u001b[0m\u001b[1;33m[\u001b[0m\u001b[0manimals\u001b[0m\u001b[1;33m[\u001b[0m\u001b[1;34m'Genus'\u001b[0m\u001b[1;33m]\u001b[0m \u001b[1;33m==\u001b[0m \u001b[0mgenus\u001b[0m\u001b[1;33m]\u001b[0m\u001b[1;33m)\u001b[0m\u001b[1;33m:\u001b[0m\u001b[1;33m\u001b[0m\u001b[1;33m\u001b[0m\u001b[0m\n\u001b[0m\u001b[0;32m     24\u001b[0m                         \u001b[1;31m# print(species['Commonname'])\u001b[0m\u001b[1;33m\u001b[0m\u001b[1;33m\u001b[0m\u001b[1;33m\u001b[0m\u001b[0m\n\u001b[0;32m     25\u001b[0m                         \u001b[0mprint\u001b[0m\u001b[1;33m(\u001b[0m\u001b[1;34m'xxx'\u001b[0m\u001b[1;33m)\u001b[0m\u001b[1;33m\u001b[0m\u001b[1;33m\u001b[0m\u001b[0m\n",
      "\u001b[1;32m<__array_function__ internals>\u001b[0m in \u001b[0;36munique\u001b[1;34m(*args, **kwargs)\u001b[0m\n",
      "\u001b[1;32mC:\\Python39\\lib\\site-packages\\numpy\\lib\\arraysetops.py\u001b[0m in \u001b[0;36munique\u001b[1;34m(ar, return_index, return_inverse, return_counts, axis)\u001b[0m\n\u001b[0;32m    260\u001b[0m     \u001b[0mar\u001b[0m \u001b[1;33m=\u001b[0m \u001b[0mnp\u001b[0m\u001b[1;33m.\u001b[0m\u001b[0masanyarray\u001b[0m\u001b[1;33m(\u001b[0m\u001b[0mar\u001b[0m\u001b[1;33m)\u001b[0m\u001b[1;33m\u001b[0m\u001b[1;33m\u001b[0m\u001b[0m\n\u001b[0;32m    261\u001b[0m     \u001b[1;32mif\u001b[0m \u001b[0maxis\u001b[0m \u001b[1;32mis\u001b[0m \u001b[1;32mNone\u001b[0m\u001b[1;33m:\u001b[0m\u001b[1;33m\u001b[0m\u001b[1;33m\u001b[0m\u001b[0m\n\u001b[1;32m--> 262\u001b[1;33m         \u001b[0mret\u001b[0m \u001b[1;33m=\u001b[0m \u001b[0m_unique1d\u001b[0m\u001b[1;33m(\u001b[0m\u001b[0mar\u001b[0m\u001b[1;33m,\u001b[0m \u001b[0mreturn_index\u001b[0m\u001b[1;33m,\u001b[0m \u001b[0mreturn_inverse\u001b[0m\u001b[1;33m,\u001b[0m \u001b[0mreturn_counts\u001b[0m\u001b[1;33m)\u001b[0m\u001b[1;33m\u001b[0m\u001b[1;33m\u001b[0m\u001b[0m\n\u001b[0m\u001b[0;32m    263\u001b[0m         \u001b[1;32mreturn\u001b[0m \u001b[0m_unpack_tuple\u001b[0m\u001b[1;33m(\u001b[0m\u001b[0mret\u001b[0m\u001b[1;33m)\u001b[0m\u001b[1;33m\u001b[0m\u001b[1;33m\u001b[0m\u001b[0m\n\u001b[0;32m    264\u001b[0m \u001b[1;33m\u001b[0m\u001b[0m\n",
      "\u001b[1;32mC:\\Python39\\lib\\site-packages\\numpy\\lib\\arraysetops.py\u001b[0m in \u001b[0;36m_unique1d\u001b[1;34m(ar, return_index, return_inverse, return_counts)\u001b[0m\n\u001b[0;32m    321\u001b[0m         \u001b[0maux\u001b[0m \u001b[1;33m=\u001b[0m \u001b[0mar\u001b[0m\u001b[1;33m[\u001b[0m\u001b[0mperm\u001b[0m\u001b[1;33m]\u001b[0m\u001b[1;33m\u001b[0m\u001b[1;33m\u001b[0m\u001b[0m\n\u001b[0;32m    322\u001b[0m     \u001b[1;32melse\u001b[0m\u001b[1;33m:\u001b[0m\u001b[1;33m\u001b[0m\u001b[1;33m\u001b[0m\u001b[0m\n\u001b[1;32m--> 323\u001b[1;33m         \u001b[0mar\u001b[0m\u001b[1;33m.\u001b[0m\u001b[0msort\u001b[0m\u001b[1;33m(\u001b[0m\u001b[1;33m)\u001b[0m\u001b[1;33m\u001b[0m\u001b[1;33m\u001b[0m\u001b[0m\n\u001b[0m\u001b[0;32m    324\u001b[0m         \u001b[0maux\u001b[0m \u001b[1;33m=\u001b[0m \u001b[0mar\u001b[0m\u001b[1;33m\u001b[0m\u001b[1;33m\u001b[0m\u001b[0m\n\u001b[0;32m    325\u001b[0m     \u001b[0mmask\u001b[0m \u001b[1;33m=\u001b[0m \u001b[0mnp\u001b[0m\u001b[1;33m.\u001b[0m\u001b[0mempty\u001b[0m\u001b[1;33m(\u001b[0m\u001b[0maux\u001b[0m\u001b[1;33m.\u001b[0m\u001b[0mshape\u001b[0m\u001b[1;33m,\u001b[0m \u001b[0mdtype\u001b[0m\u001b[1;33m=\u001b[0m\u001b[0mnp\u001b[0m\u001b[1;33m.\u001b[0m\u001b[0mbool_\u001b[0m\u001b[1;33m)\u001b[0m\u001b[1;33m\u001b[0m\u001b[1;33m\u001b[0m\u001b[0m\n",
      "\u001b[1;31mTypeError\u001b[0m: '<' not supported between instances of 'str' and 'int'"
     ]
    }
   ],
   "source": [
    "for phylum in np.unique(animals['Phylum']):\r\n",
    "    print( '{\"' + phylum + '\":')\r\n",
    "    print('[')\r\n",
    "    for classs in np.unique(animals[animals['Phylum'] == phylum]['Class']):\r\n",
    "        \r\n",
    "        print( '{\"' + classs + '\":')\r\n",
    "        print('[')\r\n",
    "\r\n",
    "        for order in np.unique(animals[animals['Class'] == classs]['Order']):\r\n",
    "            \r\n",
    "            print( '{\"' + order + '\":')\r\n",
    "            print('[')\r\n",
    "\r\n",
    "            for family in np.unique(animals[animals['Order'] == order]['Family']):\r\n",
    "                \r\n",
    "                print( '{\"' + family + '\":')\r\n",
    "                print('[')\r\n",
    "\r\n",
    "                for genus in np.unique(animals[animals['Family'] == family]['Genus']):\r\n",
    "                    \r\n",
    "                    print( '{\"' + genus + '\":')\r\n",
    "                    print('[')\r\n",
    "                    print(np.unique(animals[animals['Genus'] == genus]))\r\n",
    "                    # for species in np.unique(animals[animals['Genus'] == genus]):\r\n",
    "                    #     # print(species['Commonname'])\r\n",
    "                    #     print('xxx')\r\n",
    "                print(']')\r\n",
    "                print('}')\r\n",
    "            \r\n",
    "            print(']')\r\n",
    "            print('}')\r\n",
    "            \r\n",
    "        print(']')\r\n",
    "        print('}')\r\n",
    "        \r\n",
    "    print(']')\r\n",
    "    print('}')\r\n",
    "    \r\n",
    "print(']')\r\n",
    "print('}')\r\n"
   ]
  },
  {
   "cell_type": "code",
   "execution_count": 17,
   "metadata": {},
   "outputs": [],
   "source": [
    "animals.to_csv('animals.csv')"
   ]
  },
  {
   "cell_type": "code",
   "execution_count": 1,
   "metadata": {},
   "outputs": [],
   "source": [
    "import json \r\n",
    "\r\n"
   ]
  },
  {
   "cell_type": "code",
   "execution_count": 31,
   "metadata": {},
   "outputs": [
    {
     "data": {
      "text/plain": "{'Animalia': [{'Phylum1': [{'class1': [{'order1': [{'family1': [{'genus1': [{'name': 'species1'}]}]}]}]}]}]}"
     },
     "execution_count": 31,
     "metadata": {},
     "output_type": "execute_result"
    }
   ],
   "source": [
    "json_animals = {\r\n",
    "   \"Animalia\":[\r\n",
    "      {\r\n",
    "         \"Phylum1\":[\r\n",
    "            {\r\n",
    "               \"class1\":[\r\n",
    "                  {\r\n",
    "                     \"order1\":[\r\n",
    "                        {\r\n",
    "                           \"family1\":[\r\n",
    "                              {\r\n",
    "                                 \"genus1\":[\r\n",
    "                                    {\r\n",
    "                                       \"name\":\"species1\"\r\n",
    "                                    }\r\n",
    "                                 ]\r\n",
    "                              }\r\n",
    "                           ]\r\n",
    "                        }\r\n",
    "                     ]\r\n",
    "                  }\r\n",
    "               ]\r\n",
    "            }\r\n",
    "         ]\r\n",
    "      }\r\n",
    "   ]\r\n",
    "}\r\n",
    "json_animals"
   ]
  },
  {
   "cell_type": "code",
   "execution_count": 32,
   "metadata": {},
   "outputs": [
    {
     "name": "stdout",
     "output_type": "stream",
     "text": [
      "Arthropoda\n",
      "  Insecta\n"
     ]
    },
    {
     "ename": "KeyError",
     "evalue": "'Arthropoda'",
     "output_type": "error",
     "traceback": [
      "\u001b[1;31m---------------------------------------------------------------------------\u001b[0m",
      "\u001b[1;31mKeyError\u001b[0m                                  Traceback (most recent call last)",
      "\u001b[1;32m<ipython-input-32-97d0932d6a90>\u001b[0m in \u001b[0;36m<module>\u001b[1;34m\u001b[0m\n\u001b[0;32m      7\u001b[0m     \u001b[1;32mfor\u001b[0m \u001b[0mclasss\u001b[0m \u001b[1;32min\u001b[0m \u001b[0mnp\u001b[0m\u001b[1;33m.\u001b[0m\u001b[0munique\u001b[0m\u001b[1;33m(\u001b[0m\u001b[0manimals\u001b[0m\u001b[1;33m[\u001b[0m\u001b[0manimals\u001b[0m\u001b[1;33m[\u001b[0m\u001b[1;34m'Phylum'\u001b[0m\u001b[1;33m]\u001b[0m \u001b[1;33m==\u001b[0m \u001b[0mphylum\u001b[0m\u001b[1;33m]\u001b[0m\u001b[1;33m[\u001b[0m\u001b[1;34m'Class'\u001b[0m\u001b[1;33m]\u001b[0m\u001b[1;33m)\u001b[0m\u001b[1;33m:\u001b[0m\u001b[1;33m\u001b[0m\u001b[1;33m\u001b[0m\u001b[0m\n\u001b[0;32m      8\u001b[0m         \u001b[0mprint\u001b[0m\u001b[1;33m(\u001b[0m\u001b[1;34m'  '\u001b[0m \u001b[1;33m+\u001b[0m \u001b[0mclasss\u001b[0m\u001b[1;33m)\u001b[0m\u001b[1;33m\u001b[0m\u001b[1;33m\u001b[0m\u001b[0m\n\u001b[1;32m----> 9\u001b[1;33m         \u001b[0mjson_animals\u001b[0m\u001b[1;33m[\u001b[0m\u001b[0mphylum\u001b[0m\u001b[1;33m]\u001b[0m\u001b[1;33m.\u001b[0m\u001b[0mappend\u001b[0m\u001b[1;33m(\u001b[0m\u001b[0mclasss\u001b[0m\u001b[1;33m)\u001b[0m\u001b[1;33m\u001b[0m\u001b[1;33m\u001b[0m\u001b[0m\n\u001b[0m\u001b[0;32m     10\u001b[0m         \u001b[1;32mfor\u001b[0m \u001b[0morder\u001b[0m \u001b[1;32min\u001b[0m \u001b[0mnp\u001b[0m\u001b[1;33m.\u001b[0m\u001b[0munique\u001b[0m\u001b[1;33m(\u001b[0m\u001b[0manimals\u001b[0m\u001b[1;33m[\u001b[0m\u001b[0manimals\u001b[0m\u001b[1;33m[\u001b[0m\u001b[1;34m'Class'\u001b[0m\u001b[1;33m]\u001b[0m \u001b[1;33m==\u001b[0m \u001b[0mclasss\u001b[0m\u001b[1;33m]\u001b[0m\u001b[1;33m[\u001b[0m\u001b[1;34m'Order'\u001b[0m\u001b[1;33m]\u001b[0m\u001b[1;33m)\u001b[0m\u001b[1;33m:\u001b[0m\u001b[1;33m\u001b[0m\u001b[1;33m\u001b[0m\u001b[0m\n\u001b[0;32m     11\u001b[0m             \u001b[0mprint\u001b[0m\u001b[1;33m(\u001b[0m\u001b[1;34m'    '\u001b[0m \u001b[1;33m+\u001b[0m \u001b[0morder\u001b[0m\u001b[1;33m)\u001b[0m\u001b[1;33m\u001b[0m\u001b[1;33m\u001b[0m\u001b[0m\n",
      "\u001b[1;31mKeyError\u001b[0m: 'Arthropoda'"
     ]
    }
   ],
   "source": [
    "# animals.loc[len(animals.index)] = [9999, '', '', '', '', '', '', '', 'Animalia', '', '', '', '', '', '', '', '', '', '', '', '', '', '', '', '', '', '', '', '', '', '', '', ''] \r\n",
    "\r\n",
    "\r\n",
    "for phylum in np.unique(animals['Phylum']):\r\n",
    "    print(phylum)\r\n",
    "    json_animals['Animalia'].append(phylum)\r\n",
    "    for classs in np.unique(animals[animals['Phylum'] == phylum]['Class']):\r\n",
    "        print('  ' + classs)\r\n",
    "        json_animals[phylum].append(classs)\r\n",
    "        for order in np.unique(animals[animals['Class'] == classs]['Order']):\r\n",
    "            print('    ' + order)\r\n",
    "            json_animals[classs].append(order)\r\n",
    "            for family in np.unique(animals[animals['Order'] == order]['Family']):\r\n",
    "                # print('      ' + family)\r\n",
    "                json_animals[order].append(family)\r\n",
    "                for genus in np.unique(animals[animals['Family'] == family]['Genus']):\r\n",
    "                    genus_json = {genus : []}\r\n",
    "                    json_animals[family].append(genus)\r\n",
    "                    # print('        ' + genus)\r\n",
    "                    for species in np.unique(animals[animals['Genus'] == family]):\r\n",
    "                        genus_json.append(species)\r\n",
    "                        print(species)"
   ]
  }
 ],
 "metadata": {
  "kernelspec": {
   "display_name": "Python 3.9.2 64-bit",
   "name": "python392jvsc74a57bd063fd5069d213b44bf678585dea6b12cceca9941eaf7f819626cde1f2670de90d"
  },
  "language_info": {
   "codemirror_mode": {
    "name": "ipython",
    "version": 3
   },
   "file_extension": ".py",
   "mimetype": "text/x-python",
   "name": "python",
   "nbconvert_exporter": "python",
   "pygments_lexer": "ipython3",
   "version": "3.9.2"
  },
  "metadata": {
   "interpreter": {
    "hash": "63fd5069d213b44bf678585dea6b12cceca9941eaf7f819626cde1f2670de90d"
   }
  },
  "orig_nbformat": 2
 },
 "nbformat": 4,
 "nbformat_minor": 2
}