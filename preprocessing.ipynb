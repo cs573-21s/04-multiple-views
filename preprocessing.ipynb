{
 "cells": [
  {
   "cell_type": "code",
   "execution_count": 2,
   "metadata": {},
   "outputs": [],
   "source": [
    "import pandas as pd\r\n",
    "import numpy as np"
   ]
  },
  {
   "cell_type": "code",
   "execution_count": 1,
   "metadata": {},
   "outputs": [
    {
     "data": {
      "text/html": "<div>\n<style scoped>\n    .dataframe tbody tr th:only-of-type {\n        vertical-align: middle;\n    }\n\n    .dataframe tbody tr th {\n        vertical-align: top;\n    }\n\n    .dataframe thead th {\n        text-align: right;\n    }\n</style>\n<table border=\"1\" class=\"dataframe\">\n  <thead>\n    <tr style=\"text-align: right;\">\n      <th></th>\n      <th>HAGRID</th>\n      <th>Kingdom</th>\n      <th>Phylum</th>\n      <th>Class</th>\n      <th>Order</th>\n      <th>Family</th>\n      <th>Genus</th>\n      <th>Species</th>\n      <th>class</th>\n      <th>Common name</th>\n      <th>Female maturity (days)</th>\n      <th>Male maturity (days)</th>\n      <th>diff male/female maturity</th>\n      <th>Gestation/Incubation (days)</th>\n      <th>Weaning (days)</th>\n      <th>Litter/Clutch size</th>\n      <th>Litters/Clutches per year</th>\n      <th>Inter-litter/Interbirth interval</th>\n      <th>Birth weight (g)</th>\n      <th>Weaning weight (g)</th>\n      <th>Adult weight (g)</th>\n      <th>Growth rate (1/days)</th>\n      <th>Maximum longevity (yrs)</th>\n      <th>Source</th>\n      <th>Specimen origin</th>\n      <th>Sample size</th>\n      <th>Data quality</th>\n      <th>IMR (per yr)</th>\n      <th>MRDT (yrs)</th>\n      <th>Metabolic rate (W)</th>\n      <th>Body mass (g)</th>\n      <th>Temperature (K)</th>\n      <th>References</th>\n    </tr>\n  </thead>\n  <tbody>\n    <tr>\n      <th>0</th>\n      <td>3</td>\n      <td>Animalia</td>\n      <td>Arthropoda</td>\n      <td>Branchiopoda</td>\n      <td>Diplostraca</td>\n      <td>Daphniidae</td>\n      <td>Daphnia</td>\n      <td>pulicaria</td>\n      <td>Animalia.Arthropoda.Branchiopoda.Diplostraca.D...</td>\n      <td>Daphnia</td>\n      <td>NaN</td>\n      <td>NaN</td>\n      <td>0.0</td>\n      <td>NaN</td>\n      <td>NaN</td>\n      <td>NaN</td>\n      <td>NaN</td>\n      <td>NaN</td>\n      <td>NaN</td>\n      <td>NaN</td>\n      <td>NaN</td>\n      <td>NaN</td>\n      <td>0.19</td>\n      <td>NaN</td>\n      <td>unknown</td>\n      <td>medium</td>\n      <td>acceptable</td>\n      <td>NaN</td>\n      <td>NaN</td>\n      <td>NaN</td>\n      <td>NaN</td>\n      <td>NaN</td>\n      <td>129,412,951,296</td>\n    </tr>\n    <tr>\n      <th>1</th>\n      <td>5</td>\n      <td>Animalia</td>\n      <td>Arthropoda</td>\n      <td>Insecta</td>\n      <td>Diptera</td>\n      <td>Drosophilidae</td>\n      <td>Drosophila</td>\n      <td>melanogaster</td>\n      <td>Animalia.Arthropoda.Insecta.Diptera.Drosophili...</td>\n      <td>Fruit fly</td>\n      <td>7.0</td>\n      <td>7.0</td>\n      <td>0.0</td>\n      <td>NaN</td>\n      <td>NaN</td>\n      <td>NaN</td>\n      <td>NaN</td>\n      <td>NaN</td>\n      <td>NaN</td>\n      <td>NaN</td>\n      <td>NaN</td>\n      <td>NaN</td>\n      <td>0.30</td>\n      <td>NaN</td>\n      <td>captivity</td>\n      <td>large</td>\n      <td>acceptable</td>\n      <td>0.05</td>\n      <td>0.04</td>\n      <td>NaN</td>\n      <td>NaN</td>\n      <td>NaN</td>\n      <td>2,20,32,47,53,68,69,240,241,242,243,274,602,98...</td>\n    </tr>\n    <tr>\n      <th>2</th>\n      <td>6</td>\n      <td>Animalia</td>\n      <td>Arthropoda</td>\n      <td>Insecta</td>\n      <td>Hymenoptera</td>\n      <td>Apidae</td>\n      <td>Apis</td>\n      <td>mellifera</td>\n      <td>Animalia.Arthropoda.Insecta.Hymenoptera.Apidae...</td>\n      <td>Honey bee</td>\n      <td>NaN</td>\n      <td>NaN</td>\n      <td>0.0</td>\n      <td>NaN</td>\n      <td>NaN</td>\n      <td>NaN</td>\n      <td>NaN</td>\n      <td>NaN</td>\n      <td>NaN</td>\n      <td>NaN</td>\n      <td>NaN</td>\n      <td>NaN</td>\n      <td>8.00</td>\n      <td>812</td>\n      <td>unknown</td>\n      <td>medium</td>\n      <td>acceptable</td>\n      <td>NaN</td>\n      <td>NaN</td>\n      <td>NaN</td>\n      <td>NaN</td>\n      <td>NaN</td>\n      <td>6,340,740,874,180,580,000,000,000,000,000,000,...</td>\n    </tr>\n    <tr>\n      <th>3</th>\n      <td>8</td>\n      <td>Animalia</td>\n      <td>Arthropoda</td>\n      <td>Insecta</td>\n      <td>Hymenoptera</td>\n      <td>Formicidae</td>\n      <td>Cardiocondyla</td>\n      <td>obscurior</td>\n      <td>Animalia.Arthropoda.Insecta.Hymenoptera.Formic...</td>\n      <td>Cardiocondyla obscurior</td>\n      <td>NaN</td>\n      <td>NaN</td>\n      <td>0.0</td>\n      <td>NaN</td>\n      <td>NaN</td>\n      <td>NaN</td>\n      <td>NaN</td>\n      <td>NaN</td>\n      <td>NaN</td>\n      <td>NaN</td>\n      <td>NaN</td>\n      <td>NaN</td>\n      <td>0.50</td>\n      <td>1293</td>\n      <td>captivity</td>\n      <td>medium</td>\n      <td>acceptable</td>\n      <td>NaN</td>\n      <td>NaN</td>\n      <td>NaN</td>\n      <td>NaN</td>\n      <td>NaN</td>\n      <td>1293</td>\n    </tr>\n    <tr>\n      <th>4</th>\n      <td>9</td>\n      <td>Animalia</td>\n      <td>Arthropoda</td>\n      <td>Insecta</td>\n      <td>Hymenoptera</td>\n      <td>Formicidae</td>\n      <td>Lasius</td>\n      <td>niger</td>\n      <td>Animalia.Arthropoda.Insecta.Hymenoptera.Formic...</td>\n      <td>Black garden ant</td>\n      <td>NaN</td>\n      <td>NaN</td>\n      <td>0.0</td>\n      <td>NaN</td>\n      <td>NaN</td>\n      <td>NaN</td>\n      <td>NaN</td>\n      <td>NaN</td>\n      <td>NaN</td>\n      <td>NaN</td>\n      <td>NaN</td>\n      <td>NaN</td>\n      <td>28.00</td>\n      <td>411</td>\n      <td>unknown</td>\n      <td>medium</td>\n      <td>acceptable</td>\n      <td>NaN</td>\n      <td>NaN</td>\n      <td>NaN</td>\n      <td>NaN</td>\n      <td>NaN</td>\n      <td>411,813,814</td>\n    </tr>\n  </tbody>\n</table>\n</div>",
      "text/plain": "   HAGRID  ...                                         References\n0       3  ...                                    129,412,951,296\n1       5  ...  2,20,32,47,53,68,69,240,241,242,243,274,602,98...\n2       6  ...  6,340,740,874,180,580,000,000,000,000,000,000,...\n3       8  ...                                               1293\n4       9  ...                                        411,813,814\n\n[5 rows x 33 columns]"
     },
     "execution_count": 1,
     "metadata": {},
     "output_type": "execute_result"
    }
   ],
   "source": [
    "animals = pd.read_csv('animals.csv')\r\n",
    "\r\n",
    "animals.head()"
   ]
  },
  {
   "cell_type": "code",
   "execution_count": 8,
   "metadata": {},
   "outputs": [
    {
     "data": {
      "text/html": "<div>\n<style scoped>\n    .dataframe tbody tr th:only-of-type {\n        vertical-align: middle;\n    }\n\n    .dataframe tbody tr th {\n        vertical-align: top;\n    }\n\n    .dataframe thead th {\n        text-align: right;\n    }\n</style>\n<table border=\"1\" class=\"dataframe\">\n  <thead>\n    <tr style=\"text-align: right;\">\n      <th></th>\n      <th>HAGRID</th>\n      <th>Kingdom</th>\n      <th>Phylum</th>\n      <th>Class</th>\n      <th>Order</th>\n      <th>Family</th>\n      <th>Genus</th>\n      <th>Species</th>\n      <th>class</th>\n      <th>Common name</th>\n      <th>Female maturity (days)</th>\n      <th>Male maturity (days)</th>\n      <th>diff male/female maturity</th>\n      <th>Gestation/Incubation (days)</th>\n      <th>Weaning (days)</th>\n      <th>Litter/Clutch size</th>\n      <th>Litters/Clutches per year</th>\n      <th>Inter-litter/Interbirth interval</th>\n      <th>Birth weight (g)</th>\n      <th>Weaning weight (g)</th>\n      <th>Adult weight (g)</th>\n      <th>Growth rate (1/days)</th>\n      <th>Maximum longevity (yrs)</th>\n      <th>Source</th>\n      <th>Specimen origin</th>\n      <th>Sample size</th>\n      <th>Data quality</th>\n      <th>IMR (per yr)</th>\n      <th>MRDT (yrs)</th>\n      <th>Metabolic rate (W)</th>\n      <th>Body mass (g)</th>\n      <th>Temperature (K)</th>\n      <th>References</th>\n    </tr>\n  </thead>\n  <tbody>\n    <tr>\n      <th>4215</th>\n      <td>4241</td>\n      <td>Plantae</td>\n      <td>Pinophyta</td>\n      <td>Pinopsida</td>\n      <td>Pinales</td>\n      <td>Pinaceae</td>\n      <td>Pinus</td>\n      <td>longaeva</td>\n      <td>Plantae.Pinophyta.Pinopsida.Pinales.Pinaceae.P...</td>\n      <td>Great Basin bristlecone pine</td>\n      <td>NaN</td>\n      <td>NaN</td>\n      <td>0.0</td>\n      <td>NaN</td>\n      <td>NaN</td>\n      <td>NaN</td>\n      <td>NaN</td>\n      <td>NaN</td>\n      <td>NaN</td>\n      <td>NaN</td>\n      <td>NaN</td>\n      <td>NaN</td>\n      <td>5062.0</td>\n      <td>1289</td>\n      <td>wild</td>\n      <td>medium</td>\n      <td>acceptable</td>\n      <td>NaN</td>\n      <td>999.0</td>\n      <td>NaN</td>\n      <td>NaN</td>\n      <td>NaN</td>\n      <td>5,017,101,289</td>\n    </tr>\n    <tr>\n      <th>4216</th>\n      <td>4242</td>\n      <td>Fungi</td>\n      <td>Ascomycota</td>\n      <td>Saccharomycetes</td>\n      <td>Saccharomycetales</td>\n      <td>Saccharomycetaceae</td>\n      <td>Saccharomyces</td>\n      <td>cerevisiae</td>\n      <td>Fungi.Ascomycota.Saccharomycetes.Saccharomycet...</td>\n      <td>Baker's yeast</td>\n      <td>NaN</td>\n      <td>NaN</td>\n      <td>0.0</td>\n      <td>NaN</td>\n      <td>NaN</td>\n      <td>NaN</td>\n      <td>NaN</td>\n      <td>NaN</td>\n      <td>NaN</td>\n      <td>NaN</td>\n      <td>NaN</td>\n      <td>NaN</td>\n      <td>0.04</td>\n      <td>NaN</td>\n      <td>captivity</td>\n      <td>large</td>\n      <td>acceptable</td>\n      <td>NaN</td>\n      <td>NaN</td>\n      <td>NaN</td>\n      <td>NaN</td>\n      <td>NaN</td>\n      <td>4,12,15,44,45,53,56,69,337,338,460,746,932,936...</td>\n    </tr>\n    <tr>\n      <th>4217</th>\n      <td>4243</td>\n      <td>Fungi</td>\n      <td>Ascomycota</td>\n      <td>Schizosaccharomycetes</td>\n      <td>Schizosaccharomycetales</td>\n      <td>Schizosaccharomycetaceae</td>\n      <td>Schizosaccharomyces</td>\n      <td>pombe</td>\n      <td>Fungi.Ascomycota.Schizosaccharomycetes.Schizos...</td>\n      <td>Fission yeast</td>\n      <td>NaN</td>\n      <td>NaN</td>\n      <td>0.0</td>\n      <td>NaN</td>\n      <td>NaN</td>\n      <td>NaN</td>\n      <td>NaN</td>\n      <td>NaN</td>\n      <td>NaN</td>\n      <td>NaN</td>\n      <td>NaN</td>\n      <td>NaN</td>\n      <td>NaN</td>\n      <td>NaN</td>\n      <td>unknown</td>\n      <td>small</td>\n      <td>low</td>\n      <td>NaN</td>\n      <td>NaN</td>\n      <td>NaN</td>\n      <td>NaN</td>\n      <td>NaN</td>\n      <td>7,728,781,129</td>\n    </tr>\n    <tr>\n      <th>4218</th>\n      <td>4244</td>\n      <td>Fungi</td>\n      <td>Ascomycota</td>\n      <td>Sordariomycetes</td>\n      <td>Sordariales</td>\n      <td>Lasiosphaeriaceae</td>\n      <td>Podospora</td>\n      <td>anserina</td>\n      <td>Fungi.Ascomycota.Sordariomycetes.Sordariales.L...</td>\n      <td>Filamentous fungus</td>\n      <td>NaN</td>\n      <td>NaN</td>\n      <td>0.0</td>\n      <td>NaN</td>\n      <td>NaN</td>\n      <td>NaN</td>\n      <td>NaN</td>\n      <td>NaN</td>\n      <td>NaN</td>\n      <td>NaN</td>\n      <td>NaN</td>\n      <td>NaN</td>\n      <td>NaN</td>\n      <td>NaN</td>\n      <td>unknown</td>\n      <td>small</td>\n      <td>low</td>\n      <td>NaN</td>\n      <td>NaN</td>\n      <td>NaN</td>\n      <td>NaN</td>\n      <td>NaN</td>\n      <td>7,677,687,697,707,710,000,000</td>\n    </tr>\n    <tr>\n      <th>4219</th>\n      <td>9999</td>\n      <td></td>\n      <td></td>\n      <td></td>\n      <td></td>\n      <td></td>\n      <td></td>\n      <td></td>\n      <td>Animalia</td>\n      <td></td>\n      <td></td>\n      <td></td>\n      <td></td>\n      <td></td>\n      <td></td>\n      <td></td>\n      <td></td>\n      <td></td>\n      <td></td>\n      <td></td>\n      <td></td>\n      <td></td>\n      <td></td>\n      <td></td>\n      <td></td>\n      <td></td>\n      <td></td>\n      <td></td>\n      <td></td>\n      <td></td>\n      <td></td>\n      <td></td>\n      <td></td>\n    </tr>\n  </tbody>\n</table>\n</div>",
      "text/plain": "      HAGRID  ...                                         References\n4215    4241  ...                                      5,017,101,289\n4216    4242  ...  4,12,15,44,45,53,56,69,337,338,460,746,932,936...\n4217    4243  ...                                      7,728,781,129\n4218    4244  ...                      7,677,687,697,707,710,000,000\n4219    9999  ...                                                   \n\n[5 rows x 33 columns]"
     },
     "execution_count": 8,
     "metadata": {},
     "output_type": "execute_result"
    }
   ],
   "source": [
    "animals.tail()"
   ]
  },
  {
   "cell_type": "code",
   "execution_count": 12,
   "metadata": {},
   "outputs": [
    {
     "data": {
      "text/html": "<div>\n<style scoped>\n    .dataframe tbody tr th:only-of-type {\n        vertical-align: middle;\n    }\n\n    .dataframe tbody tr th {\n        vertical-align: top;\n    }\n\n    .dataframe thead th {\n        text-align: right;\n    }\n</style>\n<table border=\"1\" class=\"dataframe\">\n  <thead>\n    <tr style=\"text-align: right;\">\n      <th></th>\n      <th>HAGRID</th>\n      <th>Kingdom</th>\n      <th>Phylum</th>\n      <th>Class</th>\n      <th>Order</th>\n      <th>Family</th>\n      <th>Genus</th>\n      <th>Species</th>\n      <th>class</th>\n      <th>Common name</th>\n      <th>Female maturity (days)</th>\n      <th>Male maturity (days)</th>\n      <th>diff male/female maturity</th>\n      <th>Gestation/Incubation (days)</th>\n      <th>Weaning (days)</th>\n      <th>Litter/Clutch size</th>\n      <th>Litters/Clutches per year</th>\n      <th>Inter-litter/Interbirth interval</th>\n      <th>Birth weight (g)</th>\n      <th>Weaning weight (g)</th>\n      <th>Adult weight (g)</th>\n      <th>Growth rate (1/days)</th>\n      <th>Maximum longevity (yrs)</th>\n      <th>Source</th>\n      <th>Specimen origin</th>\n      <th>Sample size</th>\n      <th>Data quality</th>\n      <th>IMR (per yr)</th>\n      <th>MRDT (yrs)</th>\n      <th>Metabolic rate (W)</th>\n      <th>Body mass (g)</th>\n      <th>Temperature (K)</th>\n      <th>References</th>\n    </tr>\n  </thead>\n  <tbody>\n    <tr>\n      <th>0</th>\n      <td>3</td>\n      <td>Animalia</td>\n      <td>Arthropoda</td>\n      <td>Branchiopoda</td>\n      <td>Diplostraca</td>\n      <td>Daphniidae</td>\n      <td>Daphnia</td>\n      <td>pulicaria</td>\n      <td>Animalia.Arthropoda.Branchiopoda.Diplostraca.D...</td>\n      <td>Daphnia</td>\n      <td>NaN</td>\n      <td>NaN</td>\n      <td>0.0</td>\n      <td>NaN</td>\n      <td>NaN</td>\n      <td>NaN</td>\n      <td>NaN</td>\n      <td>NaN</td>\n      <td>NaN</td>\n      <td>NaN</td>\n      <td>NaN</td>\n      <td>NaN</td>\n      <td>0.19</td>\n      <td>NaN</td>\n      <td>unknown</td>\n      <td>medium</td>\n      <td>acceptable</td>\n      <td>NaN</td>\n      <td>NaN</td>\n      <td>NaN</td>\n      <td>NaN</td>\n      <td>NaN</td>\n      <td>129,412,951,296</td>\n    </tr>\n    <tr>\n      <th>1</th>\n      <td>5</td>\n      <td>Animalia</td>\n      <td>Arthropoda</td>\n      <td>Insecta</td>\n      <td>Diptera</td>\n      <td>Drosophilidae</td>\n      <td>Drosophila</td>\n      <td>melanogaster</td>\n      <td>Animalia.Arthropoda.Insecta.Diptera.Drosophili...</td>\n      <td>Fruit fly</td>\n      <td>7.0</td>\n      <td>7.0</td>\n      <td>0.0</td>\n      <td>NaN</td>\n      <td>NaN</td>\n      <td>NaN</td>\n      <td>NaN</td>\n      <td>NaN</td>\n      <td>NaN</td>\n      <td>NaN</td>\n      <td>NaN</td>\n      <td>NaN</td>\n      <td>0.3</td>\n      <td>NaN</td>\n      <td>captivity</td>\n      <td>large</td>\n      <td>acceptable</td>\n      <td>0.05</td>\n      <td>0.04</td>\n      <td>NaN</td>\n      <td>NaN</td>\n      <td>NaN</td>\n      <td>2,20,32,47,53,68,69,240,241,242,243,274,602,98...</td>\n    </tr>\n    <tr>\n      <th>2</th>\n      <td>6</td>\n      <td>Animalia</td>\n      <td>Arthropoda</td>\n      <td>Insecta</td>\n      <td>Hymenoptera</td>\n      <td>Apidae</td>\n      <td>Apis</td>\n      <td>mellifera</td>\n      <td>Animalia.Arthropoda.Insecta.Hymenoptera.Apidae...</td>\n      <td>Honey bee</td>\n      <td>NaN</td>\n      <td>NaN</td>\n      <td>0.0</td>\n      <td>NaN</td>\n      <td>NaN</td>\n      <td>NaN</td>\n      <td>NaN</td>\n      <td>NaN</td>\n      <td>NaN</td>\n      <td>NaN</td>\n      <td>NaN</td>\n      <td>NaN</td>\n      <td>8.0</td>\n      <td>812</td>\n      <td>unknown</td>\n      <td>medium</td>\n      <td>acceptable</td>\n      <td>NaN</td>\n      <td>NaN</td>\n      <td>NaN</td>\n      <td>NaN</td>\n      <td>NaN</td>\n      <td>6,340,740,874,180,580,000,000,000,000,000,000,...</td>\n    </tr>\n    <tr>\n      <th>3</th>\n      <td>8</td>\n      <td>Animalia</td>\n      <td>Arthropoda</td>\n      <td>Insecta</td>\n      <td>Hymenoptera</td>\n      <td>Formicidae</td>\n      <td>Cardiocondyla</td>\n      <td>obscurior</td>\n      <td>Animalia.Arthropoda.Insecta.Hymenoptera.Formic...</td>\n      <td>Cardiocondyla obscurior</td>\n      <td>NaN</td>\n      <td>NaN</td>\n      <td>0.0</td>\n      <td>NaN</td>\n      <td>NaN</td>\n      <td>NaN</td>\n      <td>NaN</td>\n      <td>NaN</td>\n      <td>NaN</td>\n      <td>NaN</td>\n      <td>NaN</td>\n      <td>NaN</td>\n      <td>0.5</td>\n      <td>1293</td>\n      <td>captivity</td>\n      <td>medium</td>\n      <td>acceptable</td>\n      <td>NaN</td>\n      <td>NaN</td>\n      <td>NaN</td>\n      <td>NaN</td>\n      <td>NaN</td>\n      <td>1293</td>\n    </tr>\n    <tr>\n      <th>4</th>\n      <td>9</td>\n      <td>Animalia</td>\n      <td>Arthropoda</td>\n      <td>Insecta</td>\n      <td>Hymenoptera</td>\n      <td>Formicidae</td>\n      <td>Lasius</td>\n      <td>niger</td>\n      <td>Animalia.Arthropoda.Insecta.Hymenoptera.Formic...</td>\n      <td>Black garden ant</td>\n      <td>NaN</td>\n      <td>NaN</td>\n      <td>0.0</td>\n      <td>NaN</td>\n      <td>NaN</td>\n      <td>NaN</td>\n      <td>NaN</td>\n      <td>NaN</td>\n      <td>NaN</td>\n      <td>NaN</td>\n      <td>NaN</td>\n      <td>NaN</td>\n      <td>28.0</td>\n      <td>411</td>\n      <td>unknown</td>\n      <td>medium</td>\n      <td>acceptable</td>\n      <td>NaN</td>\n      <td>NaN</td>\n      <td>NaN</td>\n      <td>NaN</td>\n      <td>NaN</td>\n      <td>411,813,814</td>\n    </tr>\n    <tr>\n      <th>5</th>\n      <td>10</td>\n      <td>Animalia</td>\n      <td>Arthropoda</td>\n      <td>Insecta</td>\n      <td>Hymenoptera</td>\n      <td>Formicidae</td>\n      <td>Pheidole</td>\n      <td>dentata</td>\n      <td>Animalia.Arthropoda.Insecta.Hymenoptera.Formic...</td>\n      <td>Pheidole dentata</td>\n      <td>NaN</td>\n      <td>NaN</td>\n      <td>0.0</td>\n      <td>NaN</td>\n      <td>NaN</td>\n      <td>NaN</td>\n      <td>NaN</td>\n      <td>NaN</td>\n      <td>NaN</td>\n      <td>NaN</td>\n      <td>NaN</td>\n      <td>NaN</td>\n      <td>0.4</td>\n      <td>1156</td>\n      <td>captivity</td>\n      <td>medium</td>\n      <td>questionable</td>\n      <td>NaN</td>\n      <td>NaN</td>\n      <td>NaN</td>\n      <td>NaN</td>\n      <td>NaN</td>\n      <td>1156</td>\n    </tr>\n    <tr>\n      <th>6</th>\n      <td>11</td>\n      <td>Animalia</td>\n      <td>Arthropoda</td>\n      <td>Insecta</td>\n      <td>Lepidoptera</td>\n      <td>Nymphalidae</td>\n      <td>Bicyclus</td>\n      <td>anynana</td>\n      <td>Animalia.Arthropoda.Insecta.Lepidoptera.Nympha...</td>\n      <td>Squinting bush brown</td>\n      <td>15.0</td>\n      <td>15.0</td>\n      <td>0.0</td>\n      <td>NaN</td>\n      <td>NaN</td>\n      <td>NaN</td>\n      <td>NaN</td>\n      <td>NaN</td>\n      <td>NaN</td>\n      <td>NaN</td>\n      <td>NaN</td>\n      <td>NaN</td>\n      <td>0.5</td>\n      <td>811</td>\n      <td>wild</td>\n      <td>medium</td>\n      <td>acceptable</td>\n      <td>NaN</td>\n      <td>NaN</td>\n      <td>NaN</td>\n      <td>NaN</td>\n      <td>NaN</td>\n      <td>418,809,811</td>\n    </tr>\n    <tr>\n      <th>7</th>\n      <td>12</td>\n      <td>Animalia</td>\n      <td>Arthropoda</td>\n      <td>Malacostraca</td>\n      <td>Decapoda</td>\n      <td>Nephropidae</td>\n      <td>Homarus</td>\n      <td>americanus</td>\n      <td>Animalia.Arthropoda.Malacostraca.Decapoda.Neph...</td>\n      <td>American lobster</td>\n      <td>NaN</td>\n      <td>NaN</td>\n      <td>0.0</td>\n      <td>NaN</td>\n      <td>NaN</td>\n      <td>NaN</td>\n      <td>NaN</td>\n      <td>NaN</td>\n      <td>NaN</td>\n      <td>NaN</td>\n      <td>NaN</td>\n      <td>NaN</td>\n      <td>100.0</td>\n      <td>2</td>\n      <td>wild</td>\n      <td>medium</td>\n      <td>acceptable</td>\n      <td>NaN</td>\n      <td>NaN</td>\n      <td>NaN</td>\n      <td>NaN</td>\n      <td>NaN</td>\n      <td>2,13,594</td>\n    </tr>\n  </tbody>\n</table>\n</div>",
      "text/plain": "   HAGRID  ...                                         References\n0       3  ...                                    129,412,951,296\n1       5  ...  2,20,32,47,53,68,69,240,241,242,243,274,602,98...\n2       6  ...  6,340,740,874,180,580,000,000,000,000,000,000,...\n3       8  ...                                               1293\n4       9  ...                                        411,813,814\n5      10  ...                                               1156\n6      11  ...                                        418,809,811\n7      12  ...                                           2,13,594\n\n[8 rows x 33 columns]"
     },
     "execution_count": 12,
     "metadata": {},
     "output_type": "execute_result"
    }
   ],
   "source": [
    "animals[animals['Phylum'] == 'Arthropoda']"
   ]
  },
  {
   "cell_type": "code",
   "execution_count": 13,
   "metadata": {},
   "outputs": [
    {
     "name": "stdout",
     "output_type": "stream",
     "text": [
      "\n",
      "\t\n",
      "Arthropoda\n",
      "\tBranchiopoda\n",
      "\tInsecta\n",
      "\tMalacostraca\n",
      "Ascomycota\n",
      "\tSaccharomycetes\n",
      "\tSchizosaccharomycetes\n",
      "\tSordariomycetes\n",
      "Chordata\n",
      "\tAmphibia\n",
      "\tAves\n",
      "\tCephalaspidomorphi\n",
      "\tChondrichthyes\n",
      "\tChondrostei\n",
      "\tCladistei\n",
      "\tCoelacanthi\n",
      "\tDipnoi\n",
      "\tHolostei\n",
      "\tMammalia\n",
      "\tReptilia\n",
      "\tTeleostei\n",
      "Cnidaria\n",
      "\tHydrozoa\n",
      "Echinodermata\n",
      "\tEchinoidea\n",
      "Mollusca\n",
      "\tBivalvia\n",
      "Nematoda\n",
      "\tChromadorea\n",
      "Pinophyta\n",
      "\tPinopsida\n",
      "Porifera\n",
      "\tDemospongiae\n",
      "\tHexactinellida\n"
     ]
    }
   ],
   "source": [
    "animals.loc[len(animals.index)] = [9999, '', '', '', '', '', '', '', 'Animalia', '', '', '', '', '', '', '', '', '', '', '', '', '', '', '', '', '', '', '', '', '', '', '', ''] \r\n",
    "\r\n",
    "\r\n",
    "\r\n",
    "for phylum in np.unique(animals['Phylum']):\r\n",
    "    print(phylum)\r\n",
    "    animals.loc[len(animals.index)] = [9999, '', '', '', '', '', '', '', 'Animalia.' + phylum, '', '', '', '', '', '', '', '', '', '', '', '', '', '', '', '', '', '', '', '', '', '', '', ''] \r\n",
    "\r\n",
    "    for classs in np.unique(animals[animals['Phylum'] == phylum]['Class']):\r\n",
    "        print('  ' + classs)\r\n",
    "        animals.loc[len(animals.index)] = [9999, '', '', '', '', '', '', '', 'Animalia.' + phylum + '.' + classs, '', '', '', '', '', '', '', '', '', '', '', '', '', '', '', '', '', '', '', '', '', '', '', ''] \r\n",
    "\r\n",
    "        for order in np.unique(animals[animals['Class'] == class]['Order']):\r\n",
    "            print('    ' + order)\r\n",
    "            animals.loc[len(animals.index)] = [9999, '', '', '', '', '', '', '', 'Animalia.' + phylum + '.' + classs + '.' + order, '', '', '', '', '', '', '', '', '', '', '', '', '', '', '', '', '', '', '', '', '', '', '', ''] \r\n",
    "\r\n",
    "            for family in np.unique(animals[animals['Order'] == order]['Family']):\r\n",
    "                print('      ' + fmaily)\r\n",
    "                animals.loc[len(animals.index)] = [9999, '', '', '', '', '', '', '', 'Animalia.' + phylum + '.' + classs + '.' + order + '.' + family, '', '', '', '', '', '', '', '', '', '', '', '', '', '', '', '', '', '', '', '', '', '', '', ''] \r\n",
    "\r\n",
    "                for genus in np.unique(animals[animals['Family'] == family]['Genus']):\r\n",
    "                    print('        ' + genus)\r\n",
    "                    animals.loc[len(animals.index)] = [9999, '', '', '', '', '', '', '', 'Animalia.' + phylum + '.' + classs + '.' + order + '.' + family + '.' + genus, '', '', '', '', '', '', '', '', '', '', '', '', '', '', '', '', '', '', '', '', '', '', '', ''] \r\n"
   ]
  }
 ],
 "metadata": {
  "kernelspec": {
   "display_name": "Python 3.9.2 64-bit",
   "name": "python392jvsc74a57bd063fd5069d213b44bf678585dea6b12cceca9941eaf7f819626cde1f2670de90d"
  },
  "language_info": {
   "codemirror_mode": {
    "name": "ipython",
    "version": 3
   },
   "file_extension": ".py",
   "mimetype": "text/x-python",
   "name": "python",
   "nbconvert_exporter": "python",
   "pygments_lexer": "ipython3",
   "version": "3.9.2"
  },
  "metadata": {
   "interpreter": {
    "hash": "63fd5069d213b44bf678585dea6b12cceca9941eaf7f819626cde1f2670de90d"
   }
  },
  "orig_nbformat": 2
 },
 "nbformat": 4,
 "nbformat_minor": 2
}